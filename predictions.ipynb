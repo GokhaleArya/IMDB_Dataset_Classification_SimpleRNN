{
 "cells": [
  {
   "cell_type": "code",
   "execution_count": 3,
   "metadata": {},
   "outputs": [],
   "source": [
    "# Importing libraries and loading the model\n",
    "import numpy as np\n",
    "import tensorflow as tf\n",
    "from tensorflow.keras.datasets import imdb\n",
    "from tensorflow.keras.utils import pad_sequences\n",
    "from tensorflow.keras.models import load_model\n"
   ]
  },
  {
   "cell_type": "code",
   "execution_count": 4,
   "metadata": {},
   "outputs": [],
   "source": [
    "word_index = imdb.get_word_index()\n",
    "reverse_word_index = {value : key for key, value in word_index.items()}"
   ]
  },
  {
   "cell_type": "code",
   "execution_count": 5,
   "metadata": {},
   "outputs": [
    {
     "name": "stderr",
     "output_type": "stream",
     "text": [
      "WARNING:absl:Compiled the loaded model, but the compiled metrics have yet to be built. `model.compile_metrics` will be empty until you train or evaluate the model.\n"
     ]
    },
    {
     "data": {
      "text/html": [
       "<pre style=\"white-space:pre;overflow-x:auto;line-height:normal;font-family:Menlo,'DejaVu Sans Mono',consolas,'Courier New',monospace\"><span style=\"font-weight: bold\">Model: \"sequential\"</span>\n",
       "</pre>\n"
      ],
      "text/plain": [
       "\u001b[1mModel: \"sequential\"\u001b[0m\n"
      ]
     },
     "metadata": {},
     "output_type": "display_data"
    },
    {
     "data": {
      "text/html": [
       "<pre style=\"white-space:pre;overflow-x:auto;line-height:normal;font-family:Menlo,'DejaVu Sans Mono',consolas,'Courier New',monospace\">┏━━━━━━━━━━━━━━━━━━━━━━━━━━━━━━━━━┳━━━━━━━━━━━━━━━━━━━━━━━━┳━━━━━━━━━━━━━━━┓\n",
       "┃<span style=\"font-weight: bold\"> Layer (type)                    </span>┃<span style=\"font-weight: bold\"> Output Shape           </span>┃<span style=\"font-weight: bold\">       Param # </span>┃\n",
       "┡━━━━━━━━━━━━━━━━━━━━━━━━━━━━━━━━━╇━━━━━━━━━━━━━━━━━━━━━━━━╇━━━━━━━━━━━━━━━┩\n",
       "│ embedding (<span style=\"color: #0087ff; text-decoration-color: #0087ff\">Embedding</span>)           │ (<span style=\"color: #00af00; text-decoration-color: #00af00\">32</span>, <span style=\"color: #00af00; text-decoration-color: #00af00\">500</span>, <span style=\"color: #00af00; text-decoration-color: #00af00\">128</span>)         │     <span style=\"color: #00af00; text-decoration-color: #00af00\">1,280,000</span> │\n",
       "├─────────────────────────────────┼────────────────────────┼───────────────┤\n",
       "│ simple_rnn (<span style=\"color: #0087ff; text-decoration-color: #0087ff\">SimpleRNN</span>)          │ (<span style=\"color: #00af00; text-decoration-color: #00af00\">32</span>, <span style=\"color: #00af00; text-decoration-color: #00af00\">128</span>)              │        <span style=\"color: #00af00; text-decoration-color: #00af00\">32,896</span> │\n",
       "├─────────────────────────────────┼────────────────────────┼───────────────┤\n",
       "│ dense (<span style=\"color: #0087ff; text-decoration-color: #0087ff\">Dense</span>)                   │ (<span style=\"color: #00af00; text-decoration-color: #00af00\">32</span>, <span style=\"color: #00af00; text-decoration-color: #00af00\">1</span>)                │           <span style=\"color: #00af00; text-decoration-color: #00af00\">129</span> │\n",
       "└─────────────────────────────────┴────────────────────────┴───────────────┘\n",
       "</pre>\n"
      ],
      "text/plain": [
       "┏━━━━━━━━━━━━━━━━━━━━━━━━━━━━━━━━━┳━━━━━━━━━━━━━━━━━━━━━━━━┳━━━━━━━━━━━━━━━┓\n",
       "┃\u001b[1m \u001b[0m\u001b[1mLayer (type)                   \u001b[0m\u001b[1m \u001b[0m┃\u001b[1m \u001b[0m\u001b[1mOutput Shape          \u001b[0m\u001b[1m \u001b[0m┃\u001b[1m \u001b[0m\u001b[1m      Param #\u001b[0m\u001b[1m \u001b[0m┃\n",
       "┡━━━━━━━━━━━━━━━━━━━━━━━━━━━━━━━━━╇━━━━━━━━━━━━━━━━━━━━━━━━╇━━━━━━━━━━━━━━━┩\n",
       "│ embedding (\u001b[38;5;33mEmbedding\u001b[0m)           │ (\u001b[38;5;34m32\u001b[0m, \u001b[38;5;34m500\u001b[0m, \u001b[38;5;34m128\u001b[0m)         │     \u001b[38;5;34m1,280,000\u001b[0m │\n",
       "├─────────────────────────────────┼────────────────────────┼───────────────┤\n",
       "│ simple_rnn (\u001b[38;5;33mSimpleRNN\u001b[0m)          │ (\u001b[38;5;34m32\u001b[0m, \u001b[38;5;34m128\u001b[0m)              │        \u001b[38;5;34m32,896\u001b[0m │\n",
       "├─────────────────────────────────┼────────────────────────┼───────────────┤\n",
       "│ dense (\u001b[38;5;33mDense\u001b[0m)                   │ (\u001b[38;5;34m32\u001b[0m, \u001b[38;5;34m1\u001b[0m)                │           \u001b[38;5;34m129\u001b[0m │\n",
       "└─────────────────────────────────┴────────────────────────┴───────────────┘\n"
      ]
     },
     "metadata": {},
     "output_type": "display_data"
    },
    {
     "data": {
      "text/html": [
       "<pre style=\"white-space:pre;overflow-x:auto;line-height:normal;font-family:Menlo,'DejaVu Sans Mono',consolas,'Courier New',monospace\"><span style=\"font-weight: bold\"> Total params: </span><span style=\"color: #00af00; text-decoration-color: #00af00\">1,313,027</span> (5.01 MB)\n",
       "</pre>\n"
      ],
      "text/plain": [
       "\u001b[1m Total params: \u001b[0m\u001b[38;5;34m1,313,027\u001b[0m (5.01 MB)\n"
      ]
     },
     "metadata": {},
     "output_type": "display_data"
    },
    {
     "data": {
      "text/html": [
       "<pre style=\"white-space:pre;overflow-x:auto;line-height:normal;font-family:Menlo,'DejaVu Sans Mono',consolas,'Courier New',monospace\"><span style=\"font-weight: bold\"> Trainable params: </span><span style=\"color: #00af00; text-decoration-color: #00af00\">1,313,025</span> (5.01 MB)\n",
       "</pre>\n"
      ],
      "text/plain": [
       "\u001b[1m Trainable params: \u001b[0m\u001b[38;5;34m1,313,025\u001b[0m (5.01 MB)\n"
      ]
     },
     "metadata": {},
     "output_type": "display_data"
    },
    {
     "data": {
      "text/html": [
       "<pre style=\"white-space:pre;overflow-x:auto;line-height:normal;font-family:Menlo,'DejaVu Sans Mono',consolas,'Courier New',monospace\"><span style=\"font-weight: bold\"> Non-trainable params: </span><span style=\"color: #00af00; text-decoration-color: #00af00\">0</span> (0.00 B)\n",
       "</pre>\n"
      ],
      "text/plain": [
       "\u001b[1m Non-trainable params: \u001b[0m\u001b[38;5;34m0\u001b[0m (0.00 B)\n"
      ]
     },
     "metadata": {},
     "output_type": "display_data"
    },
    {
     "data": {
      "text/html": [
       "<pre style=\"white-space:pre;overflow-x:auto;line-height:normal;font-family:Menlo,'DejaVu Sans Mono',consolas,'Courier New',monospace\"><span style=\"font-weight: bold\"> Optimizer params: </span><span style=\"color: #00af00; text-decoration-color: #00af00\">2</span> (12.00 B)\n",
       "</pre>\n"
      ],
      "text/plain": [
       "\u001b[1m Optimizer params: \u001b[0m\u001b[38;5;34m2\u001b[0m (12.00 B)\n"
      ]
     },
     "metadata": {},
     "output_type": "display_data"
    }
   ],
   "source": [
    "# Load the model\n",
    "model = load_model('simple_rnn_imdb.h5')\n",
    "model.summary()"
   ]
  },
  {
   "cell_type": "code",
   "execution_count": 6,
   "metadata": {},
   "outputs": [
    {
     "data": {
      "text/plain": [
       "[array([[ 0.10718815, -0.05181447, -0.02723178, ..., -0.28372103,\n",
       "          0.06386076, -0.02391045],\n",
       "        [-0.03290555, -0.01434491, -0.04994068, ...,  0.01231684,\n",
       "          0.06902988, -0.02473505],\n",
       "        [-0.11021119,  0.03222299,  0.09553292, ...,  0.11748737,\n",
       "         -0.0195516 , -0.10193047],\n",
       "        ...,\n",
       "        [ 0.04786738,  0.04472121, -0.04759582, ..., -0.06445637,\n",
       "          0.00495484, -0.03145407],\n",
       "        [-0.03231806,  0.10796278, -0.01912455, ..., -0.07469197,\n",
       "         -0.05944894,  0.049901  ],\n",
       "        [ 0.04968801,  0.04166595,  0.06105973, ..., -0.03112216,\n",
       "          0.04308941, -0.03370288]], dtype=float32),\n",
       " array([[-0.06932352, -0.15618216,  0.06598302, ..., -0.04983042,\n",
       "          0.14020069,  0.15782084],\n",
       "        [-0.04659121,  0.02459352, -0.1267976 , ...,  0.07008845,\n",
       "         -0.07779616, -0.13214463],\n",
       "        [ 0.08382145,  0.12665439,  0.10290847, ...,  0.07852499,\n",
       "         -0.08875848, -0.0587277 ],\n",
       "        ...,\n",
       "        [ 0.05673256, -0.05534053, -0.09410373, ..., -0.10140407,\n",
       "         -0.09210857, -0.18419957],\n",
       "        [-0.01751636, -0.01222289,  0.00641867, ..., -0.08649861,\n",
       "         -0.15240447,  0.09682873],\n",
       "        [-0.00567167,  0.12833603, -0.05693058, ..., -0.08537084,\n",
       "          0.05339174, -0.06434555]], dtype=float32),\n",
       " array([[-0.03163771, -0.08072601, -0.07297833, ...,  0.00524782,\n",
       "         -0.10968497, -0.01696032],\n",
       "        [-0.01402595,  0.14418136,  0.10242624, ..., -0.06759097,\n",
       "         -0.05175548, -0.10302437],\n",
       "        [-0.1541423 , -0.02060425,  0.0085338 , ...,  0.02531963,\n",
       "         -0.07479059, -0.15720646],\n",
       "        ...,\n",
       "        [ 0.24815735, -0.08583667, -0.02843318, ..., -0.06221625,\n",
       "         -0.01246289, -0.05170511],\n",
       "        [-0.04774817, -0.06179345, -0.15328987, ..., -0.09002224,\n",
       "         -0.21711466,  0.06325049],\n",
       "        [-0.03109323, -0.00784904,  0.07238658, ...,  0.1890577 ,\n",
       "         -0.10040406, -0.19321452]], dtype=float32),\n",
       " array([-4.77485321e-02, -1.82591472e-02, -4.45352420e-02, -2.37931637e-03,\n",
       "         5.74894482e-03, -1.36937285e-02, -2.09473819e-02, -5.29642291e-02,\n",
       "         5.85409813e-04,  1.62467156e-02,  4.53584641e-02, -5.45490906e-02,\n",
       "        -8.53415299e-03,  3.73289771e-02,  7.15610432e-03, -2.49151569e-02,\n",
       "        -2.51325760e-02,  1.84484888e-02,  2.25284118e-02,  2.97399183e-05,\n",
       "        -3.48980278e-02,  1.13027561e-02,  9.55049414e-03, -4.51411754e-02,\n",
       "         3.46945785e-02,  3.12517770e-02, -5.39651327e-02,  9.97099094e-03,\n",
       "         2.09293459e-02, -3.48011255e-02, -3.91902663e-02, -1.37266517e-02,\n",
       "        -2.71499828e-02,  1.18528365e-03,  2.53174249e-02,  8.07828829e-03,\n",
       "        -1.19857034e-02,  5.06840507e-03, -1.41832221e-03,  1.15557956e-02,\n",
       "        -6.46772236e-02, -7.44055435e-02, -1.33554749e-02, -2.78347377e-02,\n",
       "        -7.14310724e-03,  3.79262902e-02,  7.56534049e-03, -4.53622304e-02,\n",
       "         9.56723467e-03, -1.24973617e-02, -2.73727998e-02, -3.65525782e-02,\n",
       "         1.60132488e-03, -1.76585373e-02,  2.82963403e-02, -1.89793948e-02,\n",
       "        -2.08626967e-02, -1.55705586e-02, -5.14258519e-02, -1.61379836e-02,\n",
       "        -1.75397284e-02, -4.19587791e-02, -5.25039732e-02,  1.05172321e-02,\n",
       "        -3.59276868e-02,  1.93951838e-03, -5.88275045e-02, -3.85435745e-02,\n",
       "        -3.22607309e-02, -5.60228899e-02, -4.26621065e-02,  1.27356090e-02,\n",
       "        -3.25856544e-02, -1.77626032e-02, -2.50596199e-02, -4.27447706e-02,\n",
       "        -4.24502417e-02,  4.57491465e-02, -9.63921007e-03, -3.68181542e-02,\n",
       "        -2.50828769e-02, -3.78653444e-02, -2.42293198e-02, -5.79029433e-02,\n",
       "         8.25121719e-03,  3.59178660e-03, -1.84596591e-02,  4.73499782e-02,\n",
       "        -2.34305449e-02, -1.33228814e-02, -1.71124898e-02, -2.51181684e-02,\n",
       "         2.95187905e-02, -4.69632074e-02, -8.85441899e-03, -1.20745040e-02,\n",
       "        -2.21415777e-02, -2.62136441e-02, -5.90259954e-02, -1.15040373e-02,\n",
       "         5.12212409e-07, -6.06340319e-02,  2.26983521e-02, -3.98939364e-02,\n",
       "        -2.04334240e-02, -1.96168609e-02,  1.83640532e-02, -1.05340201e-02,\n",
       "        -8.45735148e-03, -3.44999842e-02,  4.78759557e-02, -4.84765507e-02,\n",
       "        -1.76482517e-02, -2.20517889e-02,  3.77903543e-02,  1.00772493e-02,\n",
       "        -3.24599743e-02,  3.32447030e-02,  2.16344651e-02, -3.18500539e-03,\n",
       "        -4.47073393e-02,  2.93500591e-02, -3.06308195e-02, -1.38598755e-02,\n",
       "         1.28512243e-02, -3.46028171e-02, -6.78765178e-02, -8.81674141e-03],\n",
       "       dtype=float32),\n",
       " array([[-0.12982689],\n",
       "        [-0.12862565],\n",
       "        [ 0.13078706],\n",
       "        [-0.09531567],\n",
       "        [ 0.25077227],\n",
       "        [-0.06839069],\n",
       "        [ 0.16221406],\n",
       "        [-0.23356383],\n",
       "        [ 0.11814146],\n",
       "        [-0.08153233],\n",
       "        [ 0.27916095],\n",
       "        [ 0.041244  ],\n",
       "        [-0.24340881],\n",
       "        [ 0.1900839 ],\n",
       "        [ 0.1854602 ],\n",
       "        [ 0.26096693],\n",
       "        [-0.07965744],\n",
       "        [ 0.2728316 ],\n",
       "        [ 0.19239147],\n",
       "        [ 0.24205054],\n",
       "        [ 0.02645253],\n",
       "        [ 0.08739014],\n",
       "        [-0.1129164 ],\n",
       "        [ 0.03723215],\n",
       "        [-0.17442778],\n",
       "        [ 0.09818887],\n",
       "        [-0.06706841],\n",
       "        [ 0.15807582],\n",
       "        [-0.13337047],\n",
       "        [-0.26404825],\n",
       "        [ 0.06427535],\n",
       "        [-0.10284711],\n",
       "        [ 0.04904157],\n",
       "        [ 0.06485605],\n",
       "        [ 0.11835908],\n",
       "        [ 0.10845502],\n",
       "        [ 0.33480182],\n",
       "        [ 0.07190733],\n",
       "        [-0.03478857],\n",
       "        [-0.02726932],\n",
       "        [ 0.04650745],\n",
       "        [-0.16407773],\n",
       "        [ 0.16248603],\n",
       "        [ 0.09509125],\n",
       "        [-0.22669607],\n",
       "        [-0.21824658],\n",
       "        [-0.14707382],\n",
       "        [ 0.11134477],\n",
       "        [ 0.17920095],\n",
       "        [-0.04552691],\n",
       "        [-0.23838247],\n",
       "        [ 0.08480302],\n",
       "        [ 0.24861008],\n",
       "        [-0.2023073 ],\n",
       "        [-0.13965385],\n",
       "        [ 0.23136564],\n",
       "        [ 0.26302886],\n",
       "        [ 0.02196144],\n",
       "        [ 0.13633811],\n",
       "        [-0.02374142],\n",
       "        [-0.19473496],\n",
       "        [ 0.11453267],\n",
       "        [-0.05542285],\n",
       "        [-0.21813536],\n",
       "        [ 0.06791212],\n",
       "        [ 0.11902531],\n",
       "        [-0.29776403],\n",
       "        [ 0.01475434],\n",
       "        [ 0.03658774],\n",
       "        [-0.2281451 ],\n",
       "        [ 0.08176304],\n",
       "        [ 0.06422932],\n",
       "        [ 0.02247912],\n",
       "        [ 0.0661425 ],\n",
       "        [ 0.22881182],\n",
       "        [-0.06837825],\n",
       "        [-0.11934093],\n",
       "        [ 0.25553343],\n",
       "        [-0.06186566],\n",
       "        [ 0.1264448 ],\n",
       "        [ 0.07661655],\n",
       "        [ 0.05245747],\n",
       "        [-0.02606791],\n",
       "        [ 0.08394191],\n",
       "        [ 0.1748635 ],\n",
       "        [ 0.1666073 ],\n",
       "        [ 0.27375805],\n",
       "        [-0.13147478],\n",
       "        [ 0.40436497],\n",
       "        [ 0.06618453],\n",
       "        [-0.14411776],\n",
       "        [ 0.15122327],\n",
       "        [-0.07675555],\n",
       "        [ 0.0738951 ],\n",
       "        [-0.109542  ],\n",
       "        [-0.19047765],\n",
       "        [ 0.11530133],\n",
       "        [ 0.05786957],\n",
       "        [ 0.04867472],\n",
       "        [-0.06843497],\n",
       "        [-0.3048881 ],\n",
       "        [-0.09115707],\n",
       "        [ 0.1083122 ],\n",
       "        [-0.4019957 ],\n",
       "        [-0.22800896],\n",
       "        [ 0.22487354],\n",
       "        [ 0.21638143],\n",
       "        [-0.41004556],\n",
       "        [ 0.24675879],\n",
       "        [-0.07284588],\n",
       "        [ 0.16296968],\n",
       "        [-0.08951191],\n",
       "        [-0.0796213 ],\n",
       "        [-0.09828859],\n",
       "        [-0.0402912 ],\n",
       "        [ 0.1589774 ],\n",
       "        [-0.14735997],\n",
       "        [-0.04003992],\n",
       "        [ 0.0766638 ],\n",
       "        [ 0.12297351],\n",
       "        [-0.22832152],\n",
       "        [ 0.17487109],\n",
       "        [-0.4842332 ],\n",
       "        [ 0.05539095],\n",
       "        [-0.04626516],\n",
       "        [ 0.16089855],\n",
       "        [ 0.09900188],\n",
       "        [ 0.09707015]], dtype=float32),\n",
       " array([-0.3276157], dtype=float32)]"
      ]
     },
     "execution_count": 6,
     "metadata": {},
     "output_type": "execute_result"
    }
   ],
   "source": [
    "model.get_weights()"
   ]
  },
  {
   "cell_type": "code",
   "execution_count": 7,
   "metadata": {},
   "outputs": [],
   "source": [
    "# Helper functions\n",
    "# Function to decode reviews\n",
    "def decode_review(encoded_review):\n",
    "    return ' '.join([reverse_word_index.get(i-3, '?') for i in encoded_review])\n",
    "\n",
    "# Function to preprocess user input\n",
    "def preprocess_text(text):\n",
    "    words = text.lower().split()\n",
    "    encoded_review = [word_index.get(word, 2)+3 for word in words]\n",
    "    padded_review = pad_sequences([encoded_review], maxlen=500)\n",
    "    return padded_review"
   ]
  },
  {
   "cell_type": "code",
   "execution_count": 8,
   "metadata": {},
   "outputs": [],
   "source": [
    "# Prediction function\n",
    "def predict_sentiment(review):\n",
    "    preprocessed_input = preprocess_text(review)\n",
    "\n",
    "    prediction = model.predict(preprocessed_input)\n",
    "    sentiment = 'Positive' if prediction[0][0] > 0.5 else 'Negative'\n",
    "\n",
    "    return sentiment, prediction[0][0]"
   ]
  },
  {
   "cell_type": "code",
   "execution_count": 9,
   "metadata": {},
   "outputs": [
    {
     "name": "stdout",
     "output_type": "stream",
     "text": [
      "\u001b[1m1/1\u001b[0m \u001b[32m━━━━━━━━━━━━━━━━━━━━\u001b[0m\u001b[37m\u001b[0m \u001b[1m0s\u001b[0m 432ms/step\n",
      "Review : This movie was great! The acting was great and the plot was thrilling.\n",
      "Sentiment : Negative\n",
      "Prediction Score : 0.4019906520843506\n"
     ]
    }
   ],
   "source": [
    "# User input and prediction\n",
    "# Example review for prediction\n",
    "\n",
    "example_review = \"This movie was great! The acting was great and the plot was thrilling.\"\n",
    "\n",
    "sentiment,score = predict_sentiment(example_review)\n",
    "\n",
    "print(f\"Review : {example_review}\")\n",
    "print(f\"Sentiment : {sentiment}\")\n",
    "print(f\"Prediction Score : {score}\")"
   ]
  },
  {
   "cell_type": "code",
   "execution_count": 10,
   "metadata": {},
   "outputs": [
    {
     "name": "stdout",
     "output_type": "stream",
     "text": [
      "\u001b[1m1/1\u001b[0m \u001b[32m━━━━━━━━━━━━━━━━━━━━\u001b[0m\u001b[37m\u001b[0m \u001b[1m0s\u001b[0m 47ms/step\n",
      "Review : Bad movie.\n",
      "Sentiment : Negative\n",
      "Prediction Score : 0.407586008310318\n"
     ]
    }
   ],
   "source": [
    "example_review = \"Bad movie.\"\n",
    "\n",
    "sentiment,score = predict_sentiment(example_review)\n",
    "\n",
    "print(f\"Review : {example_review}\")\n",
    "print(f\"Sentiment : {sentiment}\")\n",
    "print(f\"Prediction Score : {score}\")"
   ]
  },
  {
   "cell_type": "code",
   "execution_count": 11,
   "metadata": {},
   "outputs": [
    {
     "name": "stdout",
     "output_type": "stream",
     "text": [
      "\u001b[1m1/1\u001b[0m \u001b[32m━━━━━━━━━━━━━━━━━━━━\u001b[0m\u001b[37m\u001b[0m \u001b[1m0s\u001b[0m 59ms/step\n",
      "Review : Nice movie! The acting was great and the plot was thrilling.\n",
      "Sentiment : Negative\n",
      "Prediction Score : 0.41476520895957947\n"
     ]
    }
   ],
   "source": [
    "example_review = \"Nice movie! The acting was great and the plot was thrilling.\"\n",
    "\n",
    "sentiment,score = predict_sentiment(example_review)\n",
    "\n",
    "print(f\"Review : {example_review}\")\n",
    "print(f\"Sentiment : {sentiment}\")\n",
    "print(f\"Prediction Score : {score}\")"
   ]
  },
  {
   "cell_type": "code",
   "execution_count": 12,
   "metadata": {},
   "outputs": [
    {
     "name": "stdout",
     "output_type": "stream",
     "text": [
      "\u001b[1m1/1\u001b[0m \u001b[32m━━━━━━━━━━━━━━━━━━━━\u001b[0m\u001b[37m\u001b[0m \u001b[1m0s\u001b[0m 51ms/step\n",
      "Review : This movie was terrible. The plot was nonsensical, the acting was wooden, and the special effects were laughably bad.\n",
      "Sentiment : Negative\n",
      "Prediction Score : 0.42226850986480713\n"
     ]
    }
   ],
   "source": [
    "example_review = \"This movie was terrible. The plot was nonsensical, the acting was wooden, and the special effects were laughably bad.\"\n",
    "\n",
    "sentiment,score = predict_sentiment(example_review)\n",
    "\n",
    "print(f\"Review : {example_review}\")\n",
    "print(f\"Sentiment : {sentiment}\")\n",
    "print(f\"Prediction Score : {score}\")"
   ]
  },
  {
   "cell_type": "code",
   "execution_count": 23,
   "metadata": {},
   "outputs": [
    {
     "name": "stdout",
     "output_type": "stream",
     "text": [
      "\u001b[1m1/1\u001b[0m \u001b[32m━━━━━━━━━━━━━━━━━━━━\u001b[0m\u001b[37m\u001b[0m \u001b[1m0s\u001b[0m 105ms/step\n",
      "Review : This movie was terrible. The plot was nonsensical, the acting was wooden, and the special effects were laughably bad.\n",
      "Sentiment : Negative\n",
      "Prediction Score : 0.42226850986480713\n"
     ]
    }
   ],
   "source": [
    "example_review = \"This movie was terrible. The plot was nonsensical, the acting was wooden, and the special effects were laughably bad.\"\n",
    "\n",
    "sentiment,score = predict_sentiment(example_review)\n",
    "\n",
    "print(f\"Review : {example_review}\")\n",
    "print(f\"Sentiment : {sentiment}\")\n",
    "print(f\"Prediction Score : {score}\")"
   ]
  },
  {
   "cell_type": "code",
   "execution_count": 16,
   "metadata": {},
   "outputs": [
    {
     "name": "stdout",
     "output_type": "stream",
     "text": [
      "\u001b[1m1/1\u001b[0m \u001b[32m━━━━━━━━━━━━━━━━━━━━\u001b[0m\u001b[37m\u001b[0m \u001b[1m0s\u001b[0m 55ms/step\n",
      "Review : Best movie I have seen. Wow\n",
      "Sentiment : Positive\n",
      "Prediction Score : 0.5867185592651367\n"
     ]
    }
   ],
   "source": [
    "example_review = \"Best movie I have seen. Wow\"\n",
    "\n",
    "sentiment,score = predict_sentiment(example_review)\n",
    "\n",
    "print(f\"Review : {example_review}\")\n",
    "print(f\"Sentiment : {sentiment}\")\n",
    "print(f\"Prediction Score : {score}\")"
   ]
  },
  {
   "cell_type": "code",
   "execution_count": 24,
   "metadata": {},
   "outputs": [
    {
     "name": "stdout",
     "output_type": "stream",
     "text": [
      "\u001b[1m1/1\u001b[0m \u001b[32m━━━━━━━━━━━━━━━━━━━━\u001b[0m\u001b[37m\u001b[0m \u001b[1m0s\u001b[0m 43ms/step\n",
      "Review : This movie was terrible. The plot was nonsensical, the acting was wooden, and the special effects were laughably bad.\n",
      "Sentiment : Negative\n",
      "Prediction Score : 0.42226850986480713\n"
     ]
    }
   ],
   "source": [
    "example_review = \"This movie was terrible. The plot was nonsensical, the acting was wooden, and the special effects were laughably bad.\"\n",
    "\n",
    "sentiment,score = predict_sentiment(example_review)\n",
    "\n",
    "print(f\"Review : {example_review}\")\n",
    "print(f\"Sentiment : {sentiment}\")\n",
    "print(f\"Prediction Score : {score}\")"
   ]
  },
  {
   "cell_type": "code",
   "execution_count": 25,
   "metadata": {},
   "outputs": [
    {
     "name": "stdout",
     "output_type": "stream",
     "text": [
      "\u001b[1m1/1\u001b[0m \u001b[32m━━━━━━━━━━━━━━━━━━━━\u001b[0m\u001b[37m\u001b[0m \u001b[1m0s\u001b[0m 42ms/step\n",
      "Review : It was boring\n",
      "Sentiment : Negative\n",
      "Prediction Score : 0.09042027592658997\n"
     ]
    }
   ],
   "source": [
    "example_review = \"It was boring\"\n",
    "\n",
    "sentiment,score = predict_sentiment(example_review)\n",
    "\n",
    "print(f\"Review : {example_review}\")\n",
    "print(f\"Sentiment : {sentiment}\")\n",
    "print(f\"Prediction Score : {score}\")"
   ]
  },
  {
   "cell_type": "code",
   "execution_count": null,
   "metadata": {},
   "outputs": [],
   "source": []
  }
 ],
 "metadata": {
  "kernelspec": {
   "display_name": "Python 3",
   "language": "python",
   "name": "python3"
  },
  "language_info": {
   "codemirror_mode": {
    "name": "ipython",
    "version": 3
   },
   "file_extension": ".py",
   "mimetype": "text/x-python",
   "name": "python",
   "nbconvert_exporter": "python",
   "pygments_lexer": "ipython3",
   "version": "3.11.0"
  }
 },
 "nbformat": 4,
 "nbformat_minor": 2
}
